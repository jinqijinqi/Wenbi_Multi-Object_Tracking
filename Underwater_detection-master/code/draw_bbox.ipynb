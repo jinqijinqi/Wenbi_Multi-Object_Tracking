{
 "cells": [
  {
   "cell_type": "markdown",
   "metadata": {},
   "source": [
    "### Draw BBox\n",
    "According to the given dataset, draw bboxes on the images and save them. Also, at the end, the class comparision is available"
   ]
  },
  {
   "cell_type": "code",
   "execution_count": 1,
   "metadata": {},
   "outputs": [],
   "source": [
    "import json\n",
    "import cv2\n",
    "from tqdm import tqdm"
   ]
  },
  {
   "cell_type": "code",
   "execution_count": 2,
   "metadata": {},
   "outputs": [],
   "source": [
    "ann_path = 'seacoco/all_waterweeds.json' # annotation json\n",
    "img_path = 'seacoco/trainval/'\n",
    "save_path = 'seacoco/trainval_with_bbox/' # the path of saveing image with annotated bboxes"
   ]
  },
  {
   "cell_type": "code",
   "execution_count": 3,
   "metadata": {},
   "outputs": [],
   "source": [
    "with open(ann_path,'r') as f:\n",
    "    ann = json.load(f)"
   ]
  },
  {
   "cell_type": "code",
   "execution_count": 4,
   "metadata": {},
   "outputs": [
    {
     "name": "stderr",
     "output_type": "stream",
     "text": [
      "100%|██████████| 5543/5543 [08:55<00:00, 10.36it/s]\n"
     ]
    }
   ],
   "source": [
    "for ann_img in tqdm(ann['images']):\n",
    "    img = cv2.imread(img_path + ann_img['file_name'])\n",
    "    img_id = ann_img['id']\n",
    "    for ann_ann in ann['annotations']:\n",
    "        if ann_ann['image_id'] == img_id:\n",
    "            x1 = ann_ann['bbox'][0]\n",
    "            y1 = ann_ann['bbox'][1]\n",
    "            x2 = ann_ann['bbox'][0] + ann_ann['bbox'][2]\n",
    "            y2 = ann_ann['bbox'][1] + ann_ann['bbox'][3]\n",
    "            img = cv2.rectangle(img, (x1,y1), (x2,y2), (255,0,0), 8)\n",
    "    cv2.imwrite(save_path + ann_img['file_name'], img)"
   ]
  },
  {
   "cell_type": "code",
   "execution_count": 19,
   "metadata": {},
   "outputs": [
    {
     "name": "stdout",
     "output_type": "stream",
     "text": [
      "The augmentation image number: 6060\n",
      "The augmentation annotation number: 39788\n",
      "\n",
      "The instance number of each class:\n",
      "holothurian :  6991\n",
      "echinus :  20818\n",
      "scallop :  5653\n",
      "starfish :  6326\n"
     ]
    }
   ],
   "source": [
    "aug_anns = ann\n",
    "print(\"The augmentation image number: %d\" % len(aug_anns['images']))\n",
    "print(\"The augmentation annotation number: %d\" % len(aug_anns['annotations']))\n",
    "print(\"\")\n",
    "class_freq_dict = {}\n",
    "\n",
    "# init class_fre_dict\n",
    "for cls in aug_anns['categories']:\n",
    "    class_freq_dict[cls['id']] = 0\n",
    "\n",
    "# count the instance number of each class\n",
    "for ann in aug_anns['annotations']:\n",
    "    class_freq_dict[ann['category_id']] += 1\n",
    "\n",
    "# print out class frequency\n",
    "print(\"The instance number of each class:\")\n",
    "for cls_id in list(class_freq_dict.keys()):\n",
    "    for cat in aug_anns['categories']:\n",
    "        if cat['id'] == cls_id:\n",
    "            print(cat['name'], ': ', class_freq_dict[cls_id])"
   ]
  },
  {
   "cell_type": "code",
   "execution_count": 21,
   "metadata": {},
   "outputs": [
    {
     "data": {
      "image/png": "[encoded data removed]",
      "text/plain": [
       "<Figure size 432x288 with 1 Axes>"
      ]
     },
     "metadata": {
      "needs_background": "light"
     },
     "output_type": "display_data"
    }
   ],
   "source": [
    "import matplotlib\n",
    "import matplotlib.pyplot as plt\n",
    "import numpy as np\n",
    "\n",
    "\n",
    "labels = ['holothurian', 'echinus', 'scallop', 'starfish']\n",
    "train_means = [4574, 18676, 5554, 5704]\n",
    "aug_train_means = [6991, 20818, 5653, 6326]\n",
    "\n",
    "x = np.arange(len(labels))  # the label locations\n",
    "width = 0.35  # the width of the bars\n",
    "\n",
    "fig, ax = plt.subplots()\n",
    "rects1 = ax.bar(x - width/2, train_means, width, label='train')\n",
    "rects2 = ax.bar(x + width/2, aug_train_means, width, label='aug_train')\n",
    "\n",
    "# Add some text for labels, title and custom x-axis tick labels, etc.\n",
    "ax.set_ylabel('Annotation Number')\n",
    "ax.set_title('The annotation number before and after data augmentation')\n",
    "ax.set_xticks(x)\n",
    "ax.set_xticklabels(labels)\n",
    "ax.legend()\n",
    "\n",
    "\n",
    "def autolabel(rects):\n",
    "    \"\"\"Attach a text label above each bar in *rects*, displaying its height.\"\"\"\n",
    "    for rect in rects:\n",
    "        height = rect.get_height()\n",
    "        ax.annotate('{}'.format(height),\n",
    "                    xy=(rect.get_x() + rect.get_width() / 2, height),\n",
    "                    xytext=(0, 3),  # 3 points vertical offset\n",
    "                    textcoords=\"offset points\",\n",
    "                    ha='center', va='bottom')\n",
    "\n",
    "\n",
    "autolabel(rects1)\n",
    "autolabel(rects2)\n",
    "\n",
    "fig.tight_layout()\n",
    "\n",
    "plt.show()"
   ]
  },
  {
   "cell_type": "code",
   "execution_count": null,
   "metadata": {},
   "outputs": [],
   "source": []
  }
 ],
 "metadata": {
  "kernelspec": {
   "display_name": "Python 3",
   "language": "python",
   "name": "python3"
  },
  "language_info": {
   "codemirror_mode": {
    "name": "ipython",
    "version": 3
   },
   "file_extension": ".py",
   "mimetype": "text/x-python",
   "name": "python",
   "nbconvert_exporter": "python",
   "pygments_lexer": "ipython3",
   "version": "3.7.3"
  }
 },
 "nbformat": 4,
 "nbformat_minor": 2
}
